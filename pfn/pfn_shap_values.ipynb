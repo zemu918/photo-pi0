{
 "cells": [
  {
   "cell_type": "markdown",
   "id": "3e483efb-9f6c-4f4c-87ab-ae0dc7f55066",
   "metadata": {},
   "source": [
    "# PFN feature analysis\n",
    "\n",
    "Analyze the high-level features ($\\Phi_n$) of the PFN using the SHAP algorithm."
   ]
  },
  {
   "cell_type": "code",
   "execution_count": 1,
   "id": "53c85085-fc94-4381-a08e-d2dae0ab57be",
   "metadata": {},
   "outputs": [
    {
     "name": "stderr",
     "output_type": "stream",
     "text": [
      "2024-02-23 07:04:57.844937: I tensorflow/core/platform/cpu_feature_guard.cc:182] This TensorFlow binary is optimized to use available CPU instructions in performance-critical operations.\n",
      "To enable the following instructions: AVX2 AVX512F FMA, in other operations, rebuild TensorFlow with the appropriate compiler flags.\n",
      "2024-02-23 07:04:59.436338: W tensorflow/compiler/tf2tensorrt/utils/py_utils.cc:38] TF-TRT Warning: Could not find TensorRT\n"
     ]
    }
   ],
   "source": [
    "import tensorflow as tf\n",
    "import numpy as np\n",
    "import os\n",
    "from tensorflow import keras\n",
    "from matplotlib import pyplot as plt"
   ]
  },
  {
   "cell_type": "code",
   "execution_count": 2,
   "id": "755f3754-6483-4642-a440-832fedd39c93",
   "metadata": {},
   "outputs": [],
   "source": [
    "task_name = \"axion2\""
   ]
  },
  {
   "cell_type": "markdown",
   "id": "da1ee494-26a0-40b5-b936-67c205209c27",
   "metadata": {},
   "source": [
    "## 1. Compute high-level features using saved model"
   ]
  },
  {
   "cell_type": "code",
   "execution_count": 3,
   "id": "8c6e19d6-5e1d-4f2f-99e1-c6b1b073d343",
   "metadata": {},
   "outputs": [],
   "source": [
    "# Allow importing from one level higher\n",
    "import os\n",
    "import sys; sys.path.append(\"..\")\n",
    "\n",
    "from config import DATA_DIR, MODEL_DIR, OUTPUT_DIR"
   ]
  },
  {
   "cell_type": "code",
   "execution_count": 4,
   "id": "dcc54d53-f105-4733-b476-18bc755c4bd5",
   "metadata": {},
   "outputs": [
    {
     "name": "stderr",
     "output_type": "stream",
     "text": [
      "2024-02-23 07:05:03.179821: I tensorflow/core/common_runtime/gpu/gpu_device.cc:1639] Created device /job:localhost/replica:0/task:0/device:GPU:0 with 9804 MB memory:  -> device: 0, name: NVIDIA GeForce RTX 2080 Ti, pci bus id: 0000:88:00.0, compute capability: 7.5\n",
      "2024-02-23 07:05:03.180708: I tensorflow/core/common_runtime/gpu/gpu_device.cc:1639] Created device /job:localhost/replica:0/task:0/device:GPU:1 with 9804 MB memory:  -> device: 1, name: NVIDIA GeForce RTX 2080 Ti, pci bus id: 0000:89:00.0, compute capability: 7.5\n",
      "2024-02-23 07:05:03.181422: I tensorflow/core/common_runtime/gpu/gpu_device.cc:1639] Created device /job:localhost/replica:0/task:0/device:GPU:2 with 9804 MB memory:  -> device: 2, name: NVIDIA GeForce RTX 2080 Ti, pci bus id: 0000:b1:00.0, compute capability: 7.5\n",
      "2024-02-23 07:05:03.182158: I tensorflow/core/common_runtime/gpu/gpu_device.cc:1639] Created device /job:localhost/replica:0/task:0/device:GPU:3 with 9804 MB memory:  -> device: 3, name: NVIDIA GeForce RTX 2080 Ti, pci bus id: 0000:b2:00.0, compute capability: 7.5\n"
     ]
    }
   ],
   "source": [
    "# 2 sec\n",
    "model = keras.models.load_model(f\"{MODEL_DIR}/{task_name}_pfn\")"
   ]
  },
  {
   "cell_type": "code",
   "execution_count": 5,
   "id": "c6a707e4-5c46-4a62-a694-8e83cdf9450b",
   "metadata": {},
   "outputs": [
    {
     "name": "stdout",
     "output_type": "stream",
     "text": [
      "Loading 10% of data for particle pi0...\n",
      "Loading 10% of data for particle gamma...\n",
      "Loading 10% of data for particle axion2...\n",
      "clouds.shape: (30000, 960, 4)\n"
     ]
    }
   ],
   "source": [
    "## LOAD DATA\n",
    "particles = [\"pi0\", \"gamma\", task_name]\n",
    "clouds = []\n",
    "for particle in particles:\n",
    "    print(f\"Loading 10% of data for particle {particle}...\")\n",
    "    clouds.append(np.load(f\"{DATA_DIR}/processed/pfn/{particle}_cloud.npy\")[::10])\n",
    "clouds = np.vstack(clouds)\n",
    "print(f\"clouds.shape: {clouds.shape}\")"
   ]
  },
  {
   "cell_type": "code",
   "execution_count": 6,
   "id": "425cf6a2-d213-415a-a0d1-b4ff20113cb2",
   "metadata": {},
   "outputs": [],
   "source": [
    "cut_layer = \"Sigma\""
   ]
  },
  {
   "cell_type": "code",
   "execution_count": 7,
   "id": "4caa13c4-39ac-4cd6-8870-c91c9d4477c0",
   "metadata": {},
   "outputs": [],
   "source": [
    "Phi_model = keras.models.Model(inputs=model.inputs, outputs=model.get_layer(cut_layer).output)"
   ]
  },
  {
   "cell_type": "code",
   "execution_count": 8,
   "id": "b2c74565-0fed-47d5-961a-0038fbe50799",
   "metadata": {
    "tags": []
   },
   "outputs": [],
   "source": [
    "F_model = keras.models.Model(inputs=model.get_layer(cut_layer).output, outputs=model.output)"
   ]
  },
  {
   "cell_type": "code",
   "execution_count": 9,
   "id": "55cc71f4-2f79-4f97-8175-7a16631ca1d9",
   "metadata": {
    "tags": []
   },
   "outputs": [
    {
     "name": "stdout",
     "output_type": "stream",
     "text": [
      "938/938 [==============================] - 3s 3ms/step\n"
     ]
    }
   ],
   "source": [
    "Phi_outputs = Phi_model.predict(clouds)"
   ]
  },
  {
   "cell_type": "code",
   "execution_count": 10,
   "id": "e1542a53-013b-45ff-be64-9dd1e00b0c4c",
   "metadata": {},
   "outputs": [
    {
     "name": "stdout",
     "output_type": "stream",
     "text": [
      "Shape of Phi_outputs: (30000, 128)\n"
     ]
    }
   ],
   "source": [
    "print(f\"Shape of Phi_outputs:\", Phi_outputs.shape)"
   ]
  },
  {
   "cell_type": "code",
   "execution_count": 11,
   "id": "51636118-f9de-491b-a3fb-1efabd24ab96",
   "metadata": {},
   "outputs": [
    {
     "name": "stdout",
     "output_type": "stream",
     "text": [
      "[0 0 0 0 0 0 0 0 0 0]\n",
      "[0 0 0 0 0 0 0 0 0 0]\n",
      "Accuracy: 98.57%\n"
     ]
    }
   ],
   "source": [
    "N = Phi_outputs.shape[0] // 3\n",
    "\n",
    "preds = np.argmax(F_model(Phi_outputs), axis=1)\n",
    "truth = np.array((0,)*N + (1,)*N + (2,)*N)\n",
    "print(preds[:10])\n",
    "print(truth[:10])\n",
    "print(f\"Accuracy: {(preds == truth).sum() / len(preds) * 100:.2f}%\")"
   ]
  },
  {
   "cell_type": "markdown",
   "id": "ae1170d2-3c47-44b1-be62-7325d60b133a",
   "metadata": {},
   "source": [
    "# Part 2: Apply SHAP algorithm\n",
    "\n",
    "https://shap.readthedocs.io/en/latest/example_notebooks/tabular_examples/model_agnostic/Multioutput%20Regression%20SHAP.html"
   ]
  },
  {
   "cell_type": "code",
   "execution_count": 12,
   "id": "a9dda003-996d-48e8-8552-535f2cc124ce",
   "metadata": {},
   "outputs": [],
   "source": [
    "# ~2 min\n",
    "import shap"
   ]
  },
  {
   "cell_type": "code",
   "execution_count": 13,
   "id": "3ea0da19-e55d-4f78-94e0-5cad72a97cf1",
   "metadata": {},
   "outputs": [],
   "source": [
    "sample_Phi_outputs = shap.sample(Phi_outputs, 50)"
   ]
  },
  {
   "cell_type": "code",
   "execution_count": 14,
   "id": "b1594e06-8b1a-427f-99f5-8519839f5562",
   "metadata": {},
   "outputs": [
    {
     "name": "stdout",
     "output_type": "stream",
     "text": [
      "2/2 [==============================] - 0s 3ms/step\n"
     ]
    }
   ],
   "source": [
    "explainer = shap.KernelExplainer(\n",
    "    model=F_model.predict,\n",
    "    data=sample_Phi_outputs,\n",
    "    link=\"identity\"  # Not entirely sure what this does\n",
    ")"
   ]
  },
  {
   "cell_type": "code",
   "execution_count": 15,
   "id": "66bb90b3-31f6-4d70-99b0-b8f9b17562c8",
   "metadata": {
    "scrolled": true,
    "tags": []
   },
   "outputs": [
    {
     "data": {
      "application/vnd.jupyter.widget-view+json": {
       "model_id": "ccc567c174524a018bd8d179ff6f6bba",
       "version_major": 2,
       "version_minor": 0
      },
      "text/plain": [
       "  0%|          | 0/50 [00:00<?, ?it/s]"
      ]
     },
     "metadata": {},
     "output_type": "display_data"
    },
    {
     "name": "stdout",
     "output_type": "stream",
     "text": [
      "1/1 [==============================] - 0s 28ms/step\n",
      "3547/3547 [==============================] - 5s 1ms/step\n",
      "1/1 [==============================] - 0s 27ms/step\n",
      "3547/3547 [==============================] - 5s 1ms/step\n",
      "1/1 [==============================] - 0s 43ms/step\n",
      "3547/3547 [==============================] - 5s 1ms/step\n",
      "1/1 [==============================] - 0s 26ms/step\n",
      "3547/3547 [==============================] - 4s 1ms/step\n",
      "1/1 [==============================] - 0s 30ms/step\n",
      "3547/3547 [==============================] - 4s 1ms/step\n",
      "1/1 [==============================] - 0s 39ms/step\n",
      "3547/3547 [==============================] - 4s 1ms/step\n",
      "1/1 [==============================] - 0s 25ms/step\n",
      "3547/3547 [==============================] - 4s 1ms/step\n",
      "1/1 [==============================] - 0s 22ms/step\n",
      "3547/3547 [==============================] - 6s 2ms/step\n",
      "1/1 [==============================] - 0s 53ms/step\n",
      "3547/3547 [==============================] - 4s 1ms/step\n",
      "1/1 [==============================] - 0s 23ms/step\n",
      "3547/3547 [==============================] - 4s 1ms/step\n",
      "1/1 [==============================] - 0s 24ms/step\n",
      "3547/3547 [==============================] - 6s 2ms/step\n",
      "1/1 [==============================] - 0s 25ms/step\n",
      "3547/3547 [==============================] - 5s 2ms/step\n",
      "1/1 [==============================] - 0s 24ms/step\n",
      "3547/3547 [==============================] - 4s 1ms/step\n",
      "1/1 [==============================] - 0s 25ms/step\n",
      "3547/3547 [==============================] - 4s 1ms/step\n",
      "1/1 [==============================] - 0s 20ms/step\n",
      "3547/3547 [==============================] - 5s 1ms/step\n",
      "1/1 [==============================] - 0s 23ms/step\n",
      "3547/3547 [==============================] - 6s 2ms/step\n",
      "1/1 [==============================] - 0s 24ms/step\n",
      "3547/3547 [==============================] - 6s 2ms/step\n",
      "1/1 [==============================] - 0s 24ms/step\n",
      "3547/3547 [==============================] - 6s 2ms/step\n",
      "1/1 [==============================] - 0s 22ms/step\n",
      "3547/3547 [==============================] - 5s 1ms/step\n",
      "1/1 [==============================] - 0s 24ms/step\n",
      "3547/3547 [==============================] - 5s 1ms/step\n",
      "1/1 [==============================] - 0s 24ms/step\n",
      "3547/3547 [==============================] - 4s 1ms/step\n",
      "1/1 [==============================] - 0s 23ms/step\n",
      "3547/3547 [==============================] - 4s 1ms/step\n",
      "1/1 [==============================] - 0s 25ms/step\n",
      "3547/3547 [==============================] - 4s 1ms/step\n",
      "1/1 [==============================] - 0s 24ms/step\n",
      "3547/3547 [==============================] - 5s 1ms/step\n",
      "1/1 [==============================] - 0s 24ms/step\n",
      "3547/3547 [==============================] - 4s 1ms/step\n",
      "1/1 [==============================] - 0s 29ms/step\n",
      "3547/3547 [==============================] - 4s 1ms/step\n",
      "1/1 [==============================] - 0s 28ms/step\n",
      "3547/3547 [==============================] - 4s 1ms/step\n",
      "1/1 [==============================] - 0s 22ms/step\n",
      "3547/3547 [==============================] - 3s 970us/step\n",
      "1/1 [==============================] - 0s 25ms/step\n",
      "3547/3547 [==============================] - 4s 1ms/step\n",
      "1/1 [==============================] - 0s 32ms/step\n",
      "3547/3547 [==============================] - 5s 1ms/step\n",
      "1/1 [==============================] - 0s 30ms/step\n",
      "3547/3547 [==============================] - 4s 1ms/step\n",
      "1/1 [==============================] - 0s 26ms/step\n",
      "3547/3547 [==============================] - 5s 1ms/step\n",
      "1/1 [==============================] - 0s 25ms/step\n",
      "3547/3547 [==============================] - 4s 1ms/step\n",
      "1/1 [==============================] - 0s 25ms/step\n",
      "3547/3547 [==============================] - 4s 994us/step\n",
      "1/1 [==============================] - 0s 22ms/step\n",
      "3547/3547 [==============================] - 4s 1ms/step\n",
      "1/1 [==============================] - 0s 35ms/step\n",
      "3547/3547 [==============================] - 5s 1ms/step\n",
      "1/1 [==============================] - 0s 24ms/step\n",
      "3547/3547 [==============================] - 4s 1ms/step\n",
      "1/1 [==============================] - 0s 30ms/step\n",
      "3547/3547 [==============================] - 5s 1ms/step\n",
      "1/1 [==============================] - 0s 27ms/step\n",
      "3547/3547 [==============================] - 4s 1ms/step\n",
      "1/1 [==============================] - 0s 25ms/step\n",
      "3547/3547 [==============================] - 4s 1ms/step\n",
      "1/1 [==============================] - 0s 24ms/step\n",
      "3547/3547 [==============================] - 4s 1ms/step\n",
      "1/1 [==============================] - 0s 23ms/step\n",
      "3547/3547 [==============================] - 5s 1ms/step\n",
      "1/1 [==============================] - 0s 25ms/step\n",
      "3547/3547 [==============================] - 4s 1ms/step\n",
      "1/1 [==============================] - 0s 24ms/step\n",
      "3547/3547 [==============================] - 5s 1ms/step\n",
      "1/1 [==============================] - 0s 24ms/step\n",
      "3547/3547 [==============================] - 4s 1ms/step\n",
      "1/1 [==============================] - 0s 24ms/step\n",
      "3547/3547 [==============================] - 6s 2ms/step\n",
      "1/1 [==============================] - 0s 25ms/step\n",
      "3547/3547 [==============================] - 5s 2ms/step\n",
      "1/1 [==============================] - 0s 45ms/step\n",
      "3547/3547 [==============================] - 5s 1ms/step\n",
      "1/1 [==============================] - 0s 25ms/step\n",
      "3547/3547 [==============================] - 4s 1ms/step\n",
      "1/1 [==============================] - 0s 24ms/step\n",
      "3547/3547 [==============================] - 6s 2ms/step\n"
     ]
    }
   ],
   "source": [
    "shap_values = explainer.shap_values(X=sample_Phi_outputs)"
   ]
  },
  {
   "cell_type": "code",
   "execution_count": 16,
   "id": "48b57303-15f0-49ce-967f-947b8d051a99",
   "metadata": {},
   "outputs": [
    {
     "name": "stdout",
     "output_type": "stream",
     "text": [
      "3\n",
      "(50, 128)\n"
     ]
    }
   ],
   "source": [
    "print(len(shap_values))\n",
    "print(shap_values[0].shape)"
   ]
  },
  {
   "cell_type": "code",
   "execution_count": 17,
   "id": "79edeb75-c27a-4d7e-9d92-5165c4caa960",
   "metadata": {},
   "outputs": [],
   "source": [
    "np.save(f\"{OUTPUT_DIR}/pfn_results/{task_name}_PFN_SHAP_values.npy\", np.array(shap_values))"
   ]
  },
  {
   "cell_type": "code",
   "execution_count": 18,
   "id": "85cc4f04-93ae-464e-a19c-333e3af5403c",
   "metadata": {},
   "outputs": [
    {
     "name": "stdout",
     "output_type": "stream",
     "text": [
      "/data/wifeng/photon-jet-v2/output/pfn_results/axion2_PFN_SHAP_values.npy\n"
     ]
    }
   ],
   "source": [
    "print(f\"{OUTPUT_DIR}/pfn_results/{task_name}_PFN_SHAP_values.npy\")"
   ]
  }
 ],
 "metadata": {
  "kernelspec": {
   "display_name": "Python (tf2)",
   "language": "python",
   "name": "tf"
  },
  "language_info": {
   "codemirror_mode": {
    "name": "ipython",
    "version": 3
   },
   "file_extension": ".py",
   "mimetype": "text/x-python",
   "name": "python",
   "nbconvert_exporter": "python",
   "pygments_lexer": "ipython3",
   "version": "3.11.6"
  }
 },
 "nbformat": 4,
 "nbformat_minor": 5
}
